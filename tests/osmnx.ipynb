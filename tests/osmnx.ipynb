{
 "cells": [
  {
   "cell_type": "code",
   "id": "initial_id",
   "metadata": {
    "collapsed": true,
    "ExecuteTime": {
     "end_time": "2024-12-28T16:08:52.790320Z",
     "start_time": "2024-12-28T16:08:48.347347Z"
    }
   },
   "source": [
    "import osmnx as ox\n",
    "import geopandas as gpd"
   ],
   "outputs": [],
   "execution_count": 3
  },
  {
   "metadata": {},
   "cell_type": "code",
   "outputs": [],
   "execution_count": null,
   "source": "",
   "id": "d48cef6b288047ed"
  },
  {
   "metadata": {
    "ExecuteTime": {
     "end_time": "2024-12-28T17:03:06.013655Z",
     "start_time": "2024-12-28T17:02:28.977694Z"
    }
   },
   "cell_type": "code",
   "source": [
    "# Define a larger bounding box (min_lat, min_lon, max_lat, max_lon)\n",
    "north, south, east, west = 52.4236, 52.3550, 4.9580, 4.7316  # A larger bounding box in Amsterdam\n",
    "\n",
    "# Query for buildings in the bounding box\n",
    "buildings = ox.features.features_from_bbox((west, south, east, north), tags={\"building\": True})\n",
    "\n",
    "# Query for landuse features in the bounding box\n",
    "landuse = ox.features.features_from_bbox((west, south, east, north), tags={\"landuse\": True})\n",
    "\n",
    "# Save the data to GeoPackage\n",
    "buildings.to_file(\"osm_buildings.gpkg\", driver=\"GPKG\")\n",
    "landuse.to_file(\"osm_landuse.gpkg\", driver=\"GPKG\")\n",
    "\n",
    "print(\"Buildings and landuse data saved to GeoPackage.\")"
   ],
   "id": "a39e420e0c2955bf",
   "outputs": [
    {
     "name": "stdout",
     "output_type": "stream",
     "text": [
      "Buildings and landuse data saved to GeoPackage.\n"
     ]
    }
   ],
   "execution_count": 18
  },
  {
   "metadata": {
    "ExecuteTime": {
     "end_time": "2024-12-28T17:03:09.192850Z",
     "start_time": "2024-12-28T17:03:08.748286Z"
    }
   },
   "cell_type": "code",
   "source": [
    "water = ox.features.features_from_bbox((west, south, east, north), tags={\"water\": True})\n",
    "water.to_file(\"osm_water.gpkg\", driver=\"GPKG\")\n"
   ],
   "id": "bef016aa4c67f16a",
   "outputs": [],
   "execution_count": 19
  }
 ],
 "metadata": {
  "kernelspec": {
   "display_name": "Python 3",
   "language": "python",
   "name": "python3"
  },
  "language_info": {
   "codemirror_mode": {
    "name": "ipython",
    "version": 2
   },
   "file_extension": ".py",
   "mimetype": "text/x-python",
   "name": "python",
   "nbconvert_exporter": "python",
   "pygments_lexer": "ipython2",
   "version": "2.7.6"
  }
 },
 "nbformat": 4,
 "nbformat_minor": 5
}
