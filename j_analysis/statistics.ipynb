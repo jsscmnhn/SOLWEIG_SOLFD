{
 "cells": [
  {
   "cell_type": "code",
   "id": "initial_id",
   "metadata": {
    "collapsed": true,
    "ExecuteTime": {
     "end_time": "2025-04-28T18:22:09.825006Z",
     "start_time": "2025-04-28T18:22:09.817262Z"
    }
   },
   "source": [
    "import numpy as np\n",
    "from osgeo import gdal\n",
    "from util.misc import saveraster\n",
    "\n",
    "# Function to read a raster file and return its data as a numpy array\n",
    "\n",
    "def read_raster(file_path):\n",
    "    dataset = gdal.Open(file_path)\n",
    "    if not dataset:\n",
    "        raise Exception(f\"Failed to open file {file_path}\")\n",
    "\n",
    "    band = dataset.GetRasterBand(1)\n",
    "    array = band.ReadAsArray()\n",
    "\n",
    "    return dataset, array\n",
    "\n",
    "def calculate_statistics(array1, array2, dataset, output_file='output/difference.tiff'):\n",
    "    # Ensure both arrays are of the same shape\n",
    "    if array1.shape != array2.shape:\n",
    "        raise ValueError(\"Arrays must have the same shape.\")\n",
    "\n",
    "    # Mask invalid values (NaN and -9999)\n",
    "    mask1 = (array1 == -9999) | np.isnan(array1)\n",
    "    mask2 = (array2 == -9999) | np.isnan(array2)\n",
    "\n",
    "    valid1 = np.ma.masked_where(mask1, array1)\n",
    "    valid2 = np.ma.masked_where(mask2, array2)\n",
    "\n",
    "    # Calculate statistics ignoring masked values\n",
    "    min1, max1, mean1, stddev1 = valid1.min(), valid1.max(), valid1.mean(), valid1.std()\n",
    "    min2, max2, mean2, stddev2 = valid2.min(), valid2.max(), valid2.mean(), valid2.std()\n",
    "\n",
    "    # Calculate difference\n",
    "    diff = valid1 - valid2\n",
    "\n",
    "    # Save the difference raster\n",
    "    saveraster(dataset, output_file, diff.filled(np.nan))  # Save with np.nan where invalid\n",
    "\n",
    "    diff_min, diff_max, diff_mean, diff_stddev = diff.min(), diff.max(), diff.mean(), diff.std()\n",
    "\n",
    "    stats = {\n",
    "        'Array1': {\n",
    "            'Min': float(min1),\n",
    "            'Max': float(max1),\n",
    "            'Mean': float(mean1),\n",
    "            'Stddev': float(stddev1)\n",
    "        },\n",
    "        'Array2': {\n",
    "            'Min': float(min2),\n",
    "            'Max': float(max2),\n",
    "            'Mean': float(mean2),\n",
    "            'Stddev': float(stddev2)\n",
    "        },\n",
    "        'Difference': {\n",
    "            'Min': float(diff_min),\n",
    "            'Max': float(diff_max),\n",
    "            'Mean': float(diff_mean),\n",
    "            'Stddev': float(diff_stddev)\n",
    "        }\n",
    "    }\n",
    "\n",
    "    return stats"
   ],
   "outputs": [],
   "execution_count": 9
  },
  {
   "metadata": {},
   "cell_type": "markdown",
   "source": "## Tmrt 1300",
   "id": "c7e3949f909078bf"
  },
  {
   "metadata": {
    "ExecuteTime": {
     "end_time": "2025-04-28T18:22:09.885035Z",
     "start_time": "2025-04-28T18:22:09.845707Z"
    }
   },
   "cell_type": "code",
   "source": [
    "file1 = 'data/tmrt/Tmrt_2016_183_1300D.tif'\n",
    "file2 = 'data/tmrt/Tmrt_2016_183_1300D_og.tif'\n",
    "\n",
    "dataset1, array1 = read_raster(file1)\n",
    "dataset2, array2 = read_raster(file2)\n",
    "\n",
    "stats = calculate_statistics(array1, array2, dataset1, output_file=\"output/difference_loc2_1300.tif\")\n",
    "\n",
    "for array_name, stat_values in stats.items():\n",
    "    print(f\"{array_name} Statistics:\")\n",
    "    for stat_name, value in stat_values.items():\n",
    "        print(f\"  {stat_name}: {value}\")"
   ],
   "id": "101a29ca076eef4d",
   "outputs": [
    {
     "name": "stdout",
     "output_type": "stream",
     "text": [
      "Array1 Statistics:\n",
      "  Min: 17.436525344848633\n",
      "  Max: 40.28464889526367\n",
      "  Mean: 32.924869537353516\n",
      "  Stddev: 4.438944339752197\n",
      "Array2 Statistics:\n",
      "  Min: 17.436525344848633\n",
      "  Max: 40.28464889526367\n",
      "  Mean: 32.923545837402344\n",
      "  Stddev: 4.439036846160889\n",
      "Difference Statistics:\n",
      "  Min: -0.5170059204101562\n",
      "  Max: 0.4497108459472656\n",
      "  Mean: 0.001323114731349051\n",
      "  Stddev: 0.0112258680164814\n"
     ]
    }
   ],
   "execution_count": 10
  },
  {
   "metadata": {},
   "cell_type": "markdown",
   "source": "## Tmrt 1700",
   "id": "ddbafde36236f7f7"
  },
  {
   "metadata": {
    "ExecuteTime": {
     "end_time": "2025-04-28T18:22:09.930719Z",
     "start_time": "2025-04-28T18:22:09.895968Z"
    }
   },
   "cell_type": "code",
   "source": [
    "file1 = 'data/tmrt/Tmrt_2016_183_1700D.tif'\n",
    "file2 = 'data/tmrt/Tmrt_2016_183_1700D_og.tif'\n",
    "\n",
    "dataset1, array1 = read_raster(file1)\n",
    "dataset2, array2 = read_raster(file2)\n",
    "\n",
    "stats = calculate_statistics(array1, array2, dataset1, output_file=\"output/difference_loc2_1700.tif\")\n",
    "\n",
    "for array_name, stat_values in stats.items():\n",
    "    print(f\"{array_name} Statistics:\")\n",
    "    for stat_name, value in stat_values.items():\n",
    "        print(f\"  {stat_name}: {value}\")"
   ],
   "id": "bc3a828eab1445a7",
   "outputs": [
    {
     "name": "stdout",
     "output_type": "stream",
     "text": [
      "Array1 Statistics:\n",
      "  Min: 14.674449920654297\n",
      "  Max: 25.492382049560547\n",
      "  Mean: 21.59813690185547\n",
      "  Stddev: 2.400641441345215\n",
      "Array2 Statistics:\n",
      "  Min: 14.674449920654297\n",
      "  Max: 25.492382049560547\n",
      "  Mean: 21.59804344177246\n",
      "  Stddev: 2.40071439743042\n",
      "Difference Statistics:\n",
      "  Min: -0.05017280578613281\n",
      "  Max: 0.05153846740722656\n",
      "  Mean: 9.164756193058565e-05\n",
      "  Stddev: 0.0010591504396870732\n"
     ]
    }
   ],
   "execution_count": 11
  },
  {
   "metadata": {},
   "cell_type": "markdown",
   "source": "## Pet diff 1 pm",
   "id": "fb1d90d092988820"
  },
  {
   "metadata": {
    "ExecuteTime": {
     "end_time": "2025-04-28T18:22:35.851856Z",
     "start_time": "2025-04-28T18:22:35.770513Z"
    }
   },
   "cell_type": "code",
   "source": [
    "file1 = 'output/thesis_pet_new_1300.tiff'\n",
    "file2 = 'output/thesis_pet_og_1300.tiff'\n",
    "\n",
    "dataset1, array1 = read_raster(file1)\n",
    "dataset2, array2 = read_raster(file2)\n",
    "\n",
    "stats = calculate_statistics(array1, array2, dataset1, output_file=\"output/difference_pet_1300.tif\")\n",
    "\n",
    "for array_name, stat_values in stats.items():\n",
    "    print(f\"{array_name} Statistics:\")\n",
    "    for stat_name, value in stat_values.items():\n",
    "        print(f\"  {stat_name}: {value}\")"
   ],
   "id": "98349bbc2d5a9c4b",
   "outputs": [
    {
     "name": "stdout",
     "output_type": "stream",
     "text": [
      "Array1 Statistics:\n",
      "  Min: 19.229000091552734\n",
      "  Max: 30.31100082397461\n",
      "  Mean: 23.208658968179705\n",
      "  Stddev: 2.295925431745634\n",
      "Array2 Statistics:\n",
      "  Min: 19.18899917602539\n",
      "  Max: 30.201000213623047\n",
      "  Mean: 23.207587313702017\n",
      "  Stddev: 2.2937712812329267\n",
      "Difference Statistics:\n",
      "  Min: -0.14999961853027344\n",
      "  Max: 0.1510009765625\n",
      "  Mean: 0.0010698836595317786\n",
      "  Stddev: 0.0752742873460924\n"
     ]
    }
   ],
   "execution_count": 13
  },
  {
   "metadata": {},
   "cell_type": "markdown",
   "source": "## Pet Diff 17.00",
   "id": "50f52874c29b48b3"
  },
  {
   "metadata": {
    "ExecuteTime": {
     "end_time": "2025-04-28T18:22:10.088675Z",
     "start_time": "2025-04-28T18:22:10.001530Z"
    }
   },
   "cell_type": "code",
   "source": [
    "file1 = 'output/thesis_pet_new_1700.tiff'\n",
    "file2 = 'output/thesis_pet_og_1700.tiff'\n",
    "\n",
    "dataset1, array1 = read_raster(file1)\n",
    "dataset2, array2 = read_raster(file2)\n",
    "\n",
    "stats = calculate_statistics(array1, array2, dataset1, output_file=\"output/difference_pet_1700.tif\")\n",
    "\n",
    "for array_name, stat_values in stats.items():\n",
    "    print(f\"{array_name} Statistics:\")\n",
    "    for stat_name, value in stat_values.items():\n",
    "        print(f\"  {stat_name}: {value}\")"
   ],
   "id": "fefb652479a909ff",
   "outputs": [
    {
     "name": "stdout",
     "output_type": "stream",
     "text": [
      "Array1 Statistics:\n",
      "  Min: 17.768999099731445\n",
      "  Max: 23.007999420166016\n",
      "  Mean: 19.420027131154825\n",
      "  Stddev: 1.0279376612117506\n",
      "Array2 Statistics:\n",
      "  Min: 17.858999252319336\n",
      "  Max: 22.92099952697754\n",
      "  Mean: 19.41878427333985\n",
      "  Stddev: 1.0274711216014187\n",
      "Difference Statistics:\n",
      "  Min: -0.13299942016601562\n",
      "  Max: 0.13000106811523438\n",
      "  Mean: 0.0012404576384766268\n",
      "  Stddev: 0.07071206794828404\n"
     ]
    }
   ],
   "execution_count": 12
  },
  {
   "metadata": {},
   "cell_type": "markdown",
   "source": "## Pet class diff 1300",
   "id": "77e29d34a5dba702"
  },
  {
   "metadata": {
    "ExecuteTime": {
     "end_time": "2025-04-28T18:24:36.407504Z",
     "start_time": "2025-04-28T18:24:36.331878Z"
    }
   },
   "cell_type": "code",
   "source": [
    "## Pet diff 1 pm\n",
    "file1 = 'output/class_thesis_pet_new_1300.tiff'\n",
    "file2 = 'output/class_thesis_pet_og_1300.tiff'\n",
    "\n",
    "dataset1, array1 = read_raster(file1)\n",
    "dataset2, array2 = read_raster(file2)\n",
    "\n",
    "stats = calculate_statistics(array1, array2, dataset1, output_file=\"output/class_difference_pet_1300.tif\")\n",
    "\n",
    "for array_name, stat_values in stats.items():\n",
    "    print(f\"{array_name} Statistics:\")\n",
    "    for stat_name, value in stat_values.items():\n",
    "        print(f\"  {stat_name}: {value}\")"
   ],
   "id": "24746f25437be8ba",
   "outputs": [
    {
     "name": "stdout",
     "output_type": "stream",
     "text": [
      "Array1 Statistics:\n",
      "  Min: 4.0\n",
      "  Max: 6.0\n",
      "  Mean: 4.547108362564234\n",
      "  Stddev: 0.5031448671241722\n",
      "Array2 Statistics:\n",
      "  Min: 0.0\n",
      "  Max: 6.0\n",
      "  Mean: 1.8136038780212402\n",
      "  Stddev: 2.24017333984375\n",
      "Difference Statistics:\n",
      "  Min: -1.0\n",
      "  Max: 1.0\n",
      "  Mean: 0.02284976449739405\n",
      "  Stddev: 0.1509905136537589\n"
     ]
    }
   ],
   "execution_count": 14
  },
  {
   "metadata": {},
   "cell_type": "markdown",
   "source": "## pet class diff 1700",
   "id": "18cdf3d32fdc0751"
  },
  {
   "metadata": {
    "ExecuteTime": {
     "end_time": "2025-04-28T18:24:54.729493Z",
     "start_time": "2025-04-28T18:24:54.665662Z"
    }
   },
   "cell_type": "code",
   "source": [
    "## Pet diff 1 pm\n",
    "file1 = 'output/class_thesis_pet_new_1700.tiff'\n",
    "file2 = 'output/class_thesis_pet_og_1700.tiff'\n",
    "\n",
    "dataset1, array1 = read_raster(file1)\n",
    "dataset2, array2 = read_raster(file2)\n",
    "\n",
    "stats = calculate_statistics(array1, array2, dataset1, output_file=\"output/class_difference_pet_1700.tif\")\n",
    "\n",
    "for array_name, stat_values in stats.items():\n",
    "    print(f\"{array_name} Statistics:\")\n",
    "    for stat_name, value in stat_values.items():\n",
    "        print(f\"  {stat_name}: {value}\")"
   ],
   "id": "7b15b7afc5060d03",
   "outputs": [
    {
     "name": "stdout",
     "output_type": "stream",
     "text": [
      "Array1 Statistics:\n",
      "  Min: 3.0\n",
      "  Max: 5.0\n",
      "  Mean: 3.999268138405483\n",
      "  Stddev: 0.027426926630515953\n",
      "Array2 Statistics:\n",
      "  Min: 0.0\n",
      "  Max: 4.0\n",
      "  Mean: 1.5848442316055298\n",
      "  Stddev: 1.9421207904815674\n",
      "Difference Statistics:\n",
      "  Min: 0.0\n",
      "  Max: 1.0\n",
      "  Mean: 0.04567861866351618\n",
      "  Stddev: 0.20878717024881882\n"
     ]
    }
   ],
   "execution_count": 15
  }
 ],
 "metadata": {
  "kernelspec": {
   "display_name": "Python 3",
   "language": "python",
   "name": "python3"
  },
  "language_info": {
   "codemirror_mode": {
    "name": "ipython",
    "version": 2
   },
   "file_extension": ".py",
   "mimetype": "text/x-python",
   "name": "python",
   "nbconvert_exporter": "python",
   "pygments_lexer": "ipython2",
   "version": "2.7.6"
  }
 },
 "nbformat": 4,
 "nbformat_minor": 5
}
