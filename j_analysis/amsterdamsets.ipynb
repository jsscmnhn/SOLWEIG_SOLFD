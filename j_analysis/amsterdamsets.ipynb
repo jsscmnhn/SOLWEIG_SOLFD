{
 "cells": [
  {
   "cell_type": "code",
   "id": "initial_id",
   "metadata": {
    "collapsed": true,
    "ExecuteTime": {
     "end_time": "2025-05-13T14:32:20.516410Z",
     "start_time": "2025-05-13T14:32:20.512920Z"
    }
   },
   "source": [
    "import os\n",
    "# import h5py\n",
    "from util.misc import saveraster\n",
    "from j_output.user_output import TmrtOutput\n",
    "# from j_dataprep import DEMs\n",
    "\n",
    "from collections import defaultdict\n",
    "# from j_dataprep.landcover import LandCover\n",
    "from osgeo import gdal\n",
    "# from j_dataprep.DEMs import Buildings\n",
    "import numpy as np\n",
    "import geopandas as gpd\n",
    "import rasterio\n",
    "from rasterio.features import rasterize\n",
    "import pandas as pd"
   ],
   "outputs": [],
   "execution_count": 23
  },
  {
   "metadata": {},
   "cell_type": "markdown",
   "source": "# for average heat day no trees",
   "id": "83f39ff9cc1fd3c3"
  },
  {
   "metadata": {
    "ExecuteTime": {
     "end_time": "2025-05-13T14:01:45.706207Z",
     "start_time": "2025-05-13T14:01:45.702105Z"
    }
   },
   "cell_type": "code",
   "source": [
    "bbox_dict = {\n",
    "        'historisch': [(175905, 317210, 176505, 317810), (84050, 447180, 84650, 447780), (80780, 454550, 81380, 455150),\n",
    "                       (233400, 581500, 234000, 582100), (136600, 455850, 137200, 456450),\n",
    "                       (121500, 487000, 122100, 487600)\n",
    "                       ],\n",
    "        'tuindorp': [(76800, 455000, 78200, 455700), (152600, 463250, 153900, 463800), (139140, 469570, 139860, 470400),\n",
    "                     (190850, 441790, 191750, 442540), (113100, 551600, 113650, 552000), (32050, 391900, 32850, 392500)\n",
    "\n",
    "                     ],\n",
    "        'vinex': [(146100, 486500, 147000, 487400), (153750, 467550, 154650, 468450), (115300, 517400, 116100, 518250),\n",
    "                  (102000, 475900, 103100, 476800), (160750, 388450, 161650, 389350), (84350, 449800, 85250, 450700)\n",
    "\n",
    "                  ],\n",
    "        'volkswijk': [(104200, 490550, 105100, 491450), (78200, 453900, 79100, 454800), (83500, 447020, 84050, 447900),\n",
    "                      (136200, 456500, 137100, 457300), (182700, 579200, 183800, 579750),\n",
    "                      (233400, 582800, 234300, 583700)\n",
    "\n",
    "                      ],\n",
    "        'bloemkool': [(81700, 427490, 82700, 428200), (84050, 444000, 84950, 444900), (116650, 518700, 117550, 519600),\n",
    "                      (235050, 584950, 235950, 585850), (210500, 473900, 211400, 474800),\n",
    "                      (154700, 381450, 155700, 382150)\n",
    "\n",
    "                      ],\n",
    "\n",
    "        'stedelijk': [\n",
    "            (90300, 436900, 91300, 437600), (91200, 438500, 92100, 439300), (121350, 483750, 122250, 484650),\n",
    "            (118400, 486400, 119340, 487100)\n",
    "        ]\n",
    "}\n",
    "\n",
    "gpkg_names = ['typos', \"tuindorp\", 'vinexwijk', 'volkswijk', 'bloemkoolwijk', 'stedelijk_bouwblok']\n",
    "\n",
    "base_folder = \"E:/Geomatics/thesis/_analysisfinalfurther/\"\n",
    "typologies = ['historisch', 'tuindorp', 'vinex', 'volkswijk', 'bloemkool', 'stedelijk']\n",
    "locs = [0, 1, 2, 3, 4, 5]\n",
    "\n"
   ],
   "id": "f67c0b717f9bfdf",
   "outputs": [],
   "execution_count": 5
  },
  {
   "metadata": {},
   "cell_type": "code",
   "source": [
    "\n",
    "for typ in typologies:\n",
    "    typology_path = os.path.join(base_folder, typ)\n",
    "    for i in locs:\n",
    "        try:\n",
    "            boundingbox = bbox_dict[typ][i]\n",
    "        except (KeyError, IndexError):\n",
    "            print(f\"Skipping {typ}, index {i} – bounding box not found.\")\n",
    "            continue\n",
    "\n",
    "        dtm_path = typology_path + f\"/loc_{i}/final_dtm.tif\"\n",
    "\n",
    "        buildingslocation = Buildings(boundingbox)\n",
    "\n",
    "\n",
    "        landcover = LandCover(boundingbox, dataset_path=dtm_path, building_data=buildingslocation.building_geometries)\n",
    "\n",
    "        building_mask = ~landcover.building_mask\n",
    "        water_mask = landcover.water_mask\n",
    "\n",
    "        if water_mask is not None:\n",
    "            total_mask = np.logical_or(building_mask, ~water_mask).astype(np.uint8)\n",
    "        else:\n",
    "            total_mask = building_mask.astype(np.uint8)\n",
    "\n",
    "        dataset = gdal.Open(dtm_path)\n",
    "        saveraster(dataset, typology_path + f'/loc_{i}/masks.tif', total_mask)"
   ],
   "id": "7e171e5b06b6a576",
   "outputs": [],
   "execution_count": null
  },
  {
   "metadata": {
    "ExecuteTime": {
     "end_time": "2025-05-13T14:23:30.406372Z",
     "start_time": "2025-05-13T14:23:27.252231Z"
    }
   },
   "cell_type": "code",
   "source": [
    "gpkg_path = \"E:/Geomatics/thesis/_typos/typos.gpkg\"\n",
    "\n",
    "j = 0\n",
    "\n",
    "for typ in typologies:\n",
    "    typology_path = os.path.join(base_folder, typ)\n",
    "\n",
    "    layer_name = gpkg_names[j]\n",
    "    gdf = gpd.read_file(gpkg_path, layer=layer_name)\n",
    "\n",
    "    for i in locs:\n",
    "        try:\n",
    "            boundingbox = bbox_dict[typ][i]\n",
    "        except (KeyError, IndexError):\n",
    "            print(f\"Skipping {typ}, index {i} – bounding box not found.\")\n",
    "            continue\n",
    "\n",
    "        dtm_path = typology_path + f\"/loc_{i}/final_dtm.tif\"\n",
    "        with rasterio.open(dtm_path) as src:\n",
    "            dtm_meta = src.meta.copy()\n",
    "            transform = src.transform\n",
    "            crs = src.crs\n",
    "            shape = (src.height, src.width)\n",
    "\n",
    "        dataset = gdal.Open(dtm_path)\n",
    "        file = dataset.GetRasterBand(1).ReadAsArray()\n",
    "\n",
    "        body = np.zeros_like(file)\n",
    "\n",
    "        geom_mask = rasterize(\n",
    "            [(geom, 1) for geom in gdf.geometry],\n",
    "            out_shape=shape,\n",
    "            transform=transform,\n",
    "            fill=0,\n",
    "            dtype='uint8'\n",
    "        )\n",
    "        new_mask = (geom_mask == 0).astype(np.uint8)\n",
    "\n",
    "        existing_mask_gdal = gdal.Open(f'{typology_path}/loc_{i}/masks.tif')\n",
    "        existing_mask = existing_mask_gdal.ReadAsArray()\n",
    "\n",
    "        total_mask = np.logical_or(existing_mask, new_mask).astype(np.uint8)\n",
    "\n",
    "        saveraster(dataset, typology_path + f'/loc_{i}/masks_combined.tif', total_mask)\n",
    "\n",
    "    j += 1"
   ],
   "id": "b957d8669f5ef637",
   "outputs": [
    {
     "name": "stdout",
     "output_type": "stream",
     "text": [
      "Skipping stedelijk, index 4 – bounding box not found.\n",
      "Skipping stedelijk, index 5 – bounding box not found.\n"
     ]
    }
   ],
   "execution_count": 16
  },
  {
   "metadata": {},
   "cell_type": "code",
   "outputs": [],
   "execution_count": null,
   "source": "",
   "id": "d16bfb3fe7d80624"
  },
  {
   "metadata": {
    "ExecuteTime": {
     "end_time": "2025-05-13T14:43:06.394791Z",
     "start_time": "2025-05-13T14:43:05.996422Z"
    }
   },
   "cell_type": "code",
   "source": [
    "base_folder = \"E:/Geomatics/thesis/_analysisfinalfurther\"\n",
    "typologies = ['historisch', 'tuindorp', 'vinex', 'volkswijk', 'bloemkool', 'stedelijk']\n",
    "locs = [0, 1, 2, 3, 4, 5]\n",
    "sol = 'solweig_ext'\n",
    "\n",
    "\n",
    "rows = []\n",
    "\n",
    "for typ in typologies:\n",
    "    typology_path = os.path.join(base_folder, typ)\n",
    "\n",
    "    for i in locs:\n",
    "        try:\n",
    "            boundingbox = bbox_dict[typ][i]\n",
    "        except (KeyError, IndexError):\n",
    "            print(f\"Skipping {typ}, index {i} – bounding box not found.\")\n",
    "            continue\n",
    "\n",
    "        area_path = typology_path + f\"/loc_{i}/{sol}/\"\n",
    "        print(area_path)\n",
    "        mask_path = typology_path + f'/loc_{i}/masks_combined.tif'\n",
    "\n",
    "        mask_gdal = gdal.Open(mask_path)\n",
    "        mask = ~mask_gdal.ReadAsArray().astype(bool)\n",
    "\n",
    "        tmrt_processor = TmrtOutput(output_folder=area_path, building_mask=mask)\n",
    "        print(tmrt_processor.tmrt_arrays_by_time)\n",
    "\n",
    "        for time_group, avg_array in tmrt_processor.averaged_tmrt.items():\n",
    "            if avg_array is not None:\n",
    "                stats = tmrt_processor.calculate_stats_and_bins(avg_array, isTmrt=True)\n",
    "                print(stats)\n"
   ],
   "id": "38b5a83dac52b3b8",
   "outputs": [
    {
     "name": "stdout",
     "output_type": "stream",
     "text": [
      "E:/Geomatics/thesis/_analysisfinalfurther\\historisch/loc_0/solweig_ext/\n",
      "{}\n",
      "E:/Geomatics/thesis/_analysisfinalfurther\\historisch/loc_1/solweig_ext/\n",
      "{}\n",
      "E:/Geomatics/thesis/_analysisfinalfurther\\historisch/loc_2/solweig_ext/\n",
      "{}\n",
      "E:/Geomatics/thesis/_analysisfinalfurther\\historisch/loc_3/solweig_ext/\n",
      "{}\n",
      "E:/Geomatics/thesis/_analysisfinalfurther\\historisch/loc_4/solweig_ext/\n",
      "{}\n",
      "E:/Geomatics/thesis/_analysisfinalfurther\\historisch/loc_5/solweig_ext/\n",
      "{}\n",
      "E:/Geomatics/thesis/_analysisfinalfurther\\tuindorp/loc_0/solweig_ext/\n",
      "{}\n",
      "E:/Geomatics/thesis/_analysisfinalfurther\\tuindorp/loc_1/solweig_ext/\n",
      "{}\n",
      "E:/Geomatics/thesis/_analysisfinalfurther\\tuindorp/loc_2/solweig_ext/\n",
      "{}\n",
      "E:/Geomatics/thesis/_analysisfinalfurther\\tuindorp/loc_3/solweig_ext/\n",
      "{}\n",
      "E:/Geomatics/thesis/_analysisfinalfurther\\tuindorp/loc_4/solweig_ext/\n",
      "{}\n",
      "E:/Geomatics/thesis/_analysisfinalfurther\\tuindorp/loc_5/solweig_ext/\n",
      "{}\n",
      "E:/Geomatics/thesis/_analysisfinalfurther\\vinex/loc_0/solweig_ext/\n",
      "{}\n",
      "E:/Geomatics/thesis/_analysisfinalfurther\\vinex/loc_1/solweig_ext/\n",
      "{}\n",
      "E:/Geomatics/thesis/_analysisfinalfurther\\vinex/loc_2/solweig_ext/\n",
      "{}\n",
      "E:/Geomatics/thesis/_analysisfinalfurther\\vinex/loc_3/solweig_ext/\n",
      "{}\n",
      "E:/Geomatics/thesis/_analysisfinalfurther\\vinex/loc_4/solweig_ext/\n",
      "{}\n",
      "E:/Geomatics/thesis/_analysisfinalfurther\\vinex/loc_5/solweig_ext/\n",
      "{}\n",
      "E:/Geomatics/thesis/_analysisfinalfurther\\volkswijk/loc_0/solweig_ext/\n",
      "{}\n",
      "E:/Geomatics/thesis/_analysisfinalfurther\\volkswijk/loc_1/solweig_ext/\n",
      "{}\n",
      "E:/Geomatics/thesis/_analysisfinalfurther\\volkswijk/loc_2/solweig_ext/\n",
      "{}\n",
      "E:/Geomatics/thesis/_analysisfinalfurther\\volkswijk/loc_3/solweig_ext/\n",
      "{}\n",
      "E:/Geomatics/thesis/_analysisfinalfurther\\volkswijk/loc_4/solweig_ext/\n",
      "{}\n",
      "E:/Geomatics/thesis/_analysisfinalfurther\\volkswijk/loc_5/solweig_ext/\n",
      "{}\n",
      "E:/Geomatics/thesis/_analysisfinalfurther\\bloemkool/loc_0/solweig_ext/\n",
      "{}\n",
      "E:/Geomatics/thesis/_analysisfinalfurther\\bloemkool/loc_1/solweig_ext/\n",
      "{}\n",
      "E:/Geomatics/thesis/_analysisfinalfurther\\bloemkool/loc_2/solweig_ext/\n",
      "{}\n",
      "E:/Geomatics/thesis/_analysisfinalfurther\\bloemkool/loc_3/solweig_ext/\n",
      "{}\n",
      "E:/Geomatics/thesis/_analysisfinalfurther\\bloemkool/loc_4/solweig_ext/\n",
      "{}\n",
      "E:/Geomatics/thesis/_analysisfinalfurther\\bloemkool/loc_5/solweig_ext/\n",
      "{}\n",
      "E:/Geomatics/thesis/_analysisfinalfurther\\stedelijk/loc_0/solweig_ext/\n",
      "{}\n",
      "E:/Geomatics/thesis/_analysisfinalfurther\\stedelijk/loc_1/solweig_ext/\n",
      "{}\n",
      "E:/Geomatics/thesis/_analysisfinalfurther\\stedelijk/loc_2/solweig_ext/\n",
      "{}\n",
      "E:/Geomatics/thesis/_analysisfinalfurther\\stedelijk/loc_3/solweig_ext/\n",
      "{}\n",
      "Skipping stedelijk, index 4 – bounding box not found.\n",
      "Skipping stedelijk, index 5 – bounding box not found.\n"
     ]
    }
   ],
   "execution_count": 34
  },
  {
   "metadata": {
    "ExecuteTime": {
     "end_time": "2025-05-13T14:37:05.816374Z",
     "start_time": "2025-05-13T14:37:05.813353Z"
    }
   },
   "cell_type": "code",
   "source": "print(rows)",
   "id": "340f8a7b63381cff",
   "outputs": [
    {
     "name": "stdout",
     "output_type": "stream",
     "text": [
      "[]\n"
     ]
    }
   ],
   "execution_count": 29
  },
  {
   "metadata": {
    "ExecuteTime": {
     "end_time": "2025-05-13T14:36:12.642541Z",
     "start_time": "2025-05-13T14:36:12.638902Z"
    }
   },
   "cell_type": "code",
   "source": "df = pd.DataFrame(rows)",
   "id": "e1030d5d17dc0d2a",
   "outputs": [],
   "execution_count": 26
  },
  {
   "metadata": {
    "ExecuteTime": {
     "end_time": "2025-05-13T14:36:14.114951Z",
     "start_time": "2025-05-13T14:36:13.934723Z"
    }
   },
   "cell_type": "code",
   "source": [
    "import seaborn as sns\n",
    "import matplotlib.pyplot as plt\n",
    "\n",
    "# Filter for bin range of interest, e.g. (30, 35) °C\n",
    "target_range = (30, 35)\n",
    "df_range = df[df['bin_range'] == target_range]\n",
    "\n",
    "plt.figure(figsize=(10, 6))\n",
    "sns.boxplot(data=df_range, x='typology', y='bin_percentage', hue='time_group')\n",
    "plt.title(f\"Tmrt bin {target_range} °C: % Area per Typology\")\n",
    "plt.ylabel(\"Percentage of Area\")\n",
    "plt.xticks(rotation=45)\n",
    "plt.tight_layout()\n",
    "plt.show()"
   ],
   "id": "e946e825711dd770",
   "outputs": [
    {
     "ename": "KeyError",
     "evalue": "'bin_range'",
     "output_type": "error",
     "traceback": [
      "\u001B[1;31m---------------------------------------------------------------------------\u001B[0m",
      "\u001B[1;31mKeyError\u001B[0m                                  Traceback (most recent call last)",
      "Cell \u001B[1;32mIn[27], line 6\u001B[0m\n\u001B[0;32m      4\u001B[0m \u001B[38;5;66;03m# Filter for bin range of interest, e.g. (30, 35) °C\u001B[39;00m\n\u001B[0;32m      5\u001B[0m target_range \u001B[38;5;241m=\u001B[39m (\u001B[38;5;241m30\u001B[39m, \u001B[38;5;241m35\u001B[39m)\n\u001B[1;32m----> 6\u001B[0m df_range \u001B[38;5;241m=\u001B[39m df[\u001B[43mdf\u001B[49m\u001B[43m[\u001B[49m\u001B[38;5;124;43m'\u001B[39;49m\u001B[38;5;124;43mbin_range\u001B[39;49m\u001B[38;5;124;43m'\u001B[39;49m\u001B[43m]\u001B[49m \u001B[38;5;241m==\u001B[39m target_range]\n\u001B[0;32m      8\u001B[0m plt\u001B[38;5;241m.\u001B[39mfigure(figsize\u001B[38;5;241m=\u001B[39m(\u001B[38;5;241m10\u001B[39m, \u001B[38;5;241m6\u001B[39m))\n\u001B[0;32m      9\u001B[0m sns\u001B[38;5;241m.\u001B[39mboxplot(data\u001B[38;5;241m=\u001B[39mdf_range, x\u001B[38;5;241m=\u001B[39m\u001B[38;5;124m'\u001B[39m\u001B[38;5;124mtypology\u001B[39m\u001B[38;5;124m'\u001B[39m, y\u001B[38;5;241m=\u001B[39m\u001B[38;5;124m'\u001B[39m\u001B[38;5;124mbin_percentage\u001B[39m\u001B[38;5;124m'\u001B[39m, hue\u001B[38;5;241m=\u001B[39m\u001B[38;5;124m'\u001B[39m\u001B[38;5;124mtime_group\u001B[39m\u001B[38;5;124m'\u001B[39m)\n",
      "File \u001B[1;32m~\\anaconda3\\envs\\thesis_j\\Lib\\site-packages\\pandas\\core\\frame.py:4102\u001B[0m, in \u001B[0;36mDataFrame.__getitem__\u001B[1;34m(self, key)\u001B[0m\n\u001B[0;32m   4100\u001B[0m \u001B[38;5;28;01mif\u001B[39;00m \u001B[38;5;28mself\u001B[39m\u001B[38;5;241m.\u001B[39mcolumns\u001B[38;5;241m.\u001B[39mnlevels \u001B[38;5;241m>\u001B[39m \u001B[38;5;241m1\u001B[39m:\n\u001B[0;32m   4101\u001B[0m     \u001B[38;5;28;01mreturn\u001B[39;00m \u001B[38;5;28mself\u001B[39m\u001B[38;5;241m.\u001B[39m_getitem_multilevel(key)\n\u001B[1;32m-> 4102\u001B[0m indexer \u001B[38;5;241m=\u001B[39m \u001B[38;5;28;43mself\u001B[39;49m\u001B[38;5;241;43m.\u001B[39;49m\u001B[43mcolumns\u001B[49m\u001B[38;5;241;43m.\u001B[39;49m\u001B[43mget_loc\u001B[49m\u001B[43m(\u001B[49m\u001B[43mkey\u001B[49m\u001B[43m)\u001B[49m\n\u001B[0;32m   4103\u001B[0m \u001B[38;5;28;01mif\u001B[39;00m is_integer(indexer):\n\u001B[0;32m   4104\u001B[0m     indexer \u001B[38;5;241m=\u001B[39m [indexer]\n",
      "File \u001B[1;32m~\\anaconda3\\envs\\thesis_j\\Lib\\site-packages\\pandas\\core\\indexes\\range.py:417\u001B[0m, in \u001B[0;36mRangeIndex.get_loc\u001B[1;34m(self, key)\u001B[0m\n\u001B[0;32m    415\u001B[0m         \u001B[38;5;28;01mraise\u001B[39;00m \u001B[38;5;167;01mKeyError\u001B[39;00m(key) \u001B[38;5;28;01mfrom\u001B[39;00m \u001B[38;5;21;01merr\u001B[39;00m\n\u001B[0;32m    416\u001B[0m \u001B[38;5;28;01mif\u001B[39;00m \u001B[38;5;28misinstance\u001B[39m(key, Hashable):\n\u001B[1;32m--> 417\u001B[0m     \u001B[38;5;28;01mraise\u001B[39;00m \u001B[38;5;167;01mKeyError\u001B[39;00m(key)\n\u001B[0;32m    418\u001B[0m \u001B[38;5;28mself\u001B[39m\u001B[38;5;241m.\u001B[39m_check_indexing_error(key)\n\u001B[0;32m    419\u001B[0m \u001B[38;5;28;01mraise\u001B[39;00m \u001B[38;5;167;01mKeyError\u001B[39;00m(key)\n",
      "\u001B[1;31mKeyError\u001B[0m: 'bin_range'"
     ]
    }
   ],
   "execution_count": 27
  }
 ],
 "metadata": {
  "kernelspec": {
   "display_name": "Python 3",
   "language": "python",
   "name": "python3"
  },
  "language_info": {
   "codemirror_mode": {
    "name": "ipython",
    "version": 2
   },
   "file_extension": ".py",
   "mimetype": "text/x-python",
   "name": "python",
   "nbconvert_exporter": "python",
   "pygments_lexer": "ipython2",
   "version": "2.7.6"
  }
 },
 "nbformat": 4,
 "nbformat_minor": 5
}
