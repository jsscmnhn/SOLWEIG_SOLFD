{
 "cells": [
  {
   "cell_type": "code",
   "id": "initial_id",
   "metadata": {
    "collapsed": true,
    "ExecuteTime": {
     "end_time": "2025-03-02T16:44:37.583158Z",
     "start_time": "2025-03-02T16:44:35.940588Z"
    }
   },
   "source": [
    "import pandas as pd\n",
    "import matplotlib.pyplot as plt\n",
    "import matplotlib.pyplot as plt\n",
    "import seaborn as sns\n",
    "\n",
    "df = pd.read_csv(\"climate/file1f43b983122_lat=52.25_lng=5.5_period=20000501-20240917.csv\", sep=\",\", skiprows=11)\n",
    "\n",
    "# Convert datetime column to datetime format\n",
    "df['datetime_lst'] = pd.to_datetime(df['datetime_lst'])\n",
    "\n",
    "# Calculate daily mean and max temperatures\n",
    "daily_max_temp = df.groupby(df['datetime_lst'].dt.date)['t2m'].max()\n",
    "\n",
    "# Filter days where mean temp >= 15°C\n",
    "daily_mean_temp = df.groupby(df['datetime_lst'].dt.date)['t2m'].mean()\n",
    "valid_days = daily_mean_temp[daily_mean_temp >= 15].index\n",
    "\n",
    "# Create three filtered datasets based on max temperature ranges\n",
    "range_20_25 = daily_max_temp[(daily_max_temp >= 20) & (daily_max_temp < 25)].index\n",
    "range_25_30 = daily_max_temp[(daily_max_temp >= 25) & (daily_max_temp < 30)].index\n",
    "range_above_30 = daily_max_temp[daily_max_temp >= 30].index\n",
    "\n",
    "# Intersection with valid days (mean temp >= 15)\n",
    "range_20_25 = valid_days.intersection(range_20_25)\n",
    "range_25_30 = valid_days.intersection(range_25_30)\n",
    "range_above_30 = valid_days.intersection(range_above_30)\n",
    "\n",
    "# Filter datasets\n",
    "df_20_25 = df[df['datetime_lst'].dt.date.isin(range_20_25)]\n",
    "df_25_30 = df[df['datetime_lst'].dt.date.isin(range_25_30)]\n",
    "df_above_30 = df[df['datetime_lst'].dt.date.isin(range_above_30)]\n",
    "\n",
    "# Save datasets to CSV files\n",
    "df_20_25.to_csv(\"climate/temp_20_25.csv\", index=False)\n",
    "df_25_30.to_csv(\"climate/temp_25_30.csv\", index=False)\n",
    "df_above_30.to_csv(\"climate/temp_above_30.csv\", index=False)\n",
    "\n",
    "# Visualization function\n"
   ],
   "outputs": [],
   "execution_count": 9
  },
  {
   "metadata": {
    "ExecuteTime": {
     "end_time": "2025-03-02T16:56:04.260314Z",
     "start_time": "2025-03-02T16:55:53.000334Z"
    }
   },
   "cell_type": "code",
   "source": [
    "# Function to filter dataset and create a copy\n",
    "def filter_dataset(df, days):\n",
    "    filtered_df = df[df['datetime_lst'].dt.date.isin(days)].copy()\n",
    "    return filtered_df\n",
    "\n",
    "# Function to plot heatmap and save as PNG\n",
    "def plot_heatmap(df, title, filename, vmin, vmax, height):\n",
    "    df.loc[:, 'hour'] = df['datetime_lst'].dt.hour\n",
    "    df.loc[:, 'date'] = df['datetime_lst'].dt.date\n",
    "\n",
    "    pivot_table = df.pivot_table(values='t2m', index='date', columns='hour', aggfunc='mean')\n",
    "\n",
    "    plt.figure(figsize=(14, height))\n",
    "    ax = sns.heatmap(pivot_table, cmap=\"coolwarm\", cbar_kws={'label': 'Temperature (°C)'}, linewidths=0.1, vmin=vmin, vmax=vmax)\n",
    "    plt.title(title)\n",
    "    plt.xlabel(\"Hour\")\n",
    "    plt.ylabel(\"Day\")\n",
    "    plt.xticks(rotation=45)\n",
    "    plt.tight_layout()\n",
    "\n",
    "    # Save the heatmap\n",
    "    plt.savefig(f\"climate/{filename}.png\", dpi=300)\n",
    "    plt.close()\n",
    "    print(f\"Saved {filename}.png\")\n",
    "\n",
    "# Plot and save each dataset\n",
    "plot_heatmap(df_20_25, \"Heatmap for Max Temp between 20-25°C\", \"heatmap_20_25\", 15, 25, 40)\n",
    "plot_heatmap(df_25_30, \"Heatmap for Max Temp between 25-30°C\", \"heatmap_25_30\", 15, 30, 30)\n",
    "plot_heatmap(df_above_30, \"Heatmap for Max Temp above 30°C\", \"heatmap_above_30\", 15, 40, 25)"
   ],
   "id": "fa048b24cf4197b9",
   "outputs": [
    {
     "name": "stdout",
     "output_type": "stream",
     "text": [
      "Saved heatmap_20_25.png\n",
      "Saved heatmap_25_30.png\n",
      "Saved heatmap_above_30.png\n"
     ]
    }
   ],
   "execution_count": 14
  }
 ],
 "metadata": {
  "kernelspec": {
   "display_name": "Python 3",
   "language": "python",
   "name": "python3"
  },
  "language_info": {
   "codemirror_mode": {
    "name": "ipython",
    "version": 2
   },
   "file_extension": ".py",
   "mimetype": "text/x-python",
   "name": "python",
   "nbconvert_exporter": "python",
   "pygments_lexer": "ipython2",
   "version": "2.7.6"
  }
 },
 "nbformat": 4,
 "nbformat_minor": 5
}
