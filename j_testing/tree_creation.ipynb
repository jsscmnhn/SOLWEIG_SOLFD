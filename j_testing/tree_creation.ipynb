{
 "cells": [
  {
   "cell_type": "code",
   "id": "initial_id",
   "metadata": {
    "collapsed": true,
    "ExecuteTime": {
     "end_time": "2025-03-20T16:24:51.189537Z",
     "start_time": "2025-03-20T16:24:51.184455Z"
    }
   },
   "source": [
    "import numpy as np\n",
    "import matplotlib.pyplot as plt"
   ],
   "outputs": [],
   "execution_count": 5
  },
  {
   "metadata": {
    "ExecuteTime": {
     "end_time": "2025-03-20T19:15:41.434543Z",
     "start_time": "2025-03-20T19:15:41.423768Z"
    }
   },
   "cell_type": "code",
   "source": "chm = np.zeros((100,100))",
   "id": "9ae20cb20899cc33",
   "outputs": [],
   "execution_count": 36
  },
  {
   "metadata": {
    "ExecuteTime": {
     "end_time": "2025-03-20T16:25:24.707683Z",
     "start_time": "2025-03-20T16:25:24.701081Z"
    }
   },
   "cell_type": "code",
   "source": "print(chm)",
   "id": "c23b1e3b6ba6f845",
   "outputs": [
    {
     "name": "stdout",
     "output_type": "stream",
     "text": [
      "[[0. 0. 0. ... 0. 0. 0.]\n",
      " [0. 0. 0. ... 0. 0. 0.]\n",
      " [0. 0. 0. ... 0. 0. 0.]\n",
      " ...\n",
      " [0. 0. 0. ... 0. 0. 0.]\n",
      " [0. 0. 0. ... 0. 0. 0.]\n",
      " [0. 0. 0. ... 0. 0. 0.]]\n"
     ]
    }
   ],
   "execution_count": 10
  },
  {
   "metadata": {
    "ExecuteTime": {
     "end_time": "2025-03-20T21:24:53.309886Z",
     "start_time": "2025-03-20T21:24:53.298550Z"
    }
   },
   "cell_type": "code",
   "source": [
    "def insert_tree(array, trunk_array, position, height, crown_radius, resolution=0.5, trunk_height=0.0, type='gaussian', randomness=0.8):\n",
    "    '''\n",
    "    Function\n",
    "\n",
    "    Inputs:\n",
    "    array (2d-numpy array):         Canopy Height Model Array (CHM)\n",
    "    trunk_array (2d-numpy array):   Array of trunk heights\n",
    "    position (tuple):               (row, col) coordinates for tree center.\n",
    "    height (float):                 Total height of the tree.\n",
    "    crown_radius (float):           Radius of the crown in real-world units.\n",
    "    trunk_height (float):           Height of the trunk.\n",
    "    type (str):                     Canopy shape type ('gaussian', 'cone', etc.).\n",
    "    randomness (float):             Randomness/noise factor.\n",
    "    resolution (float)              Real-world units per pixel (default = 1.0).\n",
    "\n",
    "    Output:\n",
    "    new_array (2d-numpy array):         Modified CHM array.\n",
    "    new_trunk_array (2d-numpy array):   Modified Trunk height array\n",
    "    '''\n",
    "    new_array = np.copy(array)\n",
    "    new_trunk_array = np.copy(trunk_array)\n",
    "\n",
    "    crown_radius_px = crown_radius / resolution\n",
    "    size = int(crown_radius_px * 2.5)\n",
    "\n",
    "    # Calculate the distance from surrounding cells to the tree center\n",
    "    x = np.arange(-size//2, size//2 +1)\n",
    "    y = np.arange(-size//2, size//2 + 1)\n",
    "    X, Y = np.meshgrid(x, y)\n",
    "    distance = np.sqrt(X**2 + Y**2)\n",
    "\n",
    "    # Create canopy shape\n",
    "    if type == 'gaussian':\n",
    "        canopy = (height - trunk_height) * np.exp(-distance**2 / (2 * (crown_radius_px / 2)**2)) + trunk_height\n",
    "        print(canopy)\n",
    "    elif type == 'cone':\n",
    "        canopy = np.clip((height - trunk_height) * (1 - distance / crown_radius_px), 0, height - trunk_height) + trunk_height\n",
    "    elif type == 'parabolic':\n",
    "        canopy = (height - trunk_height) * (1 - (distance / crown_radius_px)**2)\n",
    "        canopy = np.clip(canopy, 0, height - trunk_height) + trunk_height\n",
    "    elif type == 'hemisphere':\n",
    "        canopy = np.sqrt(np.clip(crown_radius_px**2 - distance**2, 0, None)) / crown_radius_px * (height - trunk_height) + trunk_height\n",
    "    else:\n",
    "        raise ValueError(\"Unsupported tree type.\")\n",
    "\n",
    "    mask = (distance <= crown_radius_px) & (canopy >= trunk_height)\n",
    "\n",
    "    noise = np.random.normal(0, randomness, canopy.shape)\n",
    "    canopy[mask] += noise[mask]\n",
    "\n",
    "    canopy[~mask] = 0\n",
    "    canopy = np.clip(canopy, 0, None)\n",
    "\n",
    "    print(canopy)\n",
    "\n",
    "    # Define insertion window\n",
    "    row, col = position\n",
    "    half_size = size // 2\n",
    "    r_start = max(0, row - half_size)\n",
    "    r_end = min(array.shape[0], row + half_size)\n",
    "    c_start = max(0, col - half_size)\n",
    "    c_end = min(array.shape[1], col + half_size)\n",
    "\n",
    "    # Calculate actual insertion indices\n",
    "    canopy_r_start = half_size - (row - r_start)\n",
    "    canopy_r_end = canopy_r_start + (r_end - r_start)\n",
    "    canopy_c_start = half_size - (col - c_start)\n",
    "    canopy_c_end = canopy_c_start + (c_end - c_start)\n",
    "\n",
    "    # Blend\n",
    "    new_array[r_start:r_end, c_start:c_end] = np.maximum(\n",
    "        array[r_start:r_end, c_start:c_end],\n",
    "        canopy[canopy_r_start:canopy_r_end, canopy_c_start:canopy_c_end]\n",
    "    )\n",
    "\n",
    "    new_trunk_array[r_start:r_end, c_start:c_end] = np.minimum(\n",
    "    trunk_array[r_start:r_end, c_start:c_end],\n",
    "    trunk_height\n",
    "    )\n",
    "\n",
    "    return new_array, new_trunk_array\n"
   ],
   "id": "af7440d059ce5d79",
   "outputs": [],
   "execution_count": 139
  },
  {
   "metadata": {
    "ExecuteTime": {
     "end_time": "2025-03-20T21:24:57.422020Z",
     "start_time": "2025-03-20T21:24:57.411799Z"
    }
   },
   "cell_type": "code",
   "source": "new_array, trunk_array = insert_tree(chm, chm, (50,50), 20, 10, type=\"gaussian\")",
   "id": "b710694ade950b70",
   "outputs": [
    {
     "name": "stdout",
     "output_type": "stream",
     "text": [
      "[[0.03860908 0.04932779 0.06239515 ... 0.06239515 0.04932779 0.03860908]\n",
      " [0.04932779 0.06302223 0.07971737 ... 0.07971737 0.06302223 0.04932779]\n",
      " [0.06239515 0.07971737 0.10083521 ... 0.10083521 0.07971737 0.06239515]\n",
      " ...\n",
      " [0.06239515 0.07971737 0.10083521 ... 0.10083521 0.07971737 0.06239515]\n",
      " [0.04932779 0.06302223 0.07971737 ... 0.07971737 0.06302223 0.04932779]\n",
      " [0.03860908 0.04932779 0.06239515 ... 0.06239515 0.04932779 0.03860908]]\n",
      "[[0. 0. 0. ... 0. 0. 0.]\n",
      " [0. 0. 0. ... 0. 0. 0.]\n",
      " [0. 0. 0. ... 0. 0. 0.]\n",
      " ...\n",
      " [0. 0. 0. ... 0. 0. 0.]\n",
      " [0. 0. 0. ... 0. 0. 0.]\n",
      " [0. 0. 0. ... 0. 0. 0.]]\n"
     ]
    }
   ],
   "execution_count": 140
  },
  {
   "metadata": {
    "ExecuteTime": {
     "end_time": "2025-03-20T21:12:06.650340Z",
     "start_time": "2025-03-20T21:12:06.448522Z"
    }
   },
   "cell_type": "code",
   "source": [
    "plt.figure(figsize=(8, 8))\n",
    "plt.imshow(new_array, cmap='viridis', interpolation='none', vmin=0, vmax=20)\n",
    "plt.colorbar(label=\"Height\")\n",
    "plt.title(f\"gaussian\")\n",
    "plt.show()\n"
   ],
   "id": "9ca7c8125b6dcd92",
   "outputs": [
    {
     "data": {
      "text/plain": [
       "<Figure size 800x800 with 2 Axes>"
      ],
      "image/png": "[encoded data removed]"
     },
     "metadata": {},
     "output_type": "display_data"
    }
   ],
   "execution_count": 138
  }
 ],
 "metadata": {
  "kernelspec": {
   "display_name": "Python 3",
   "language": "python",
   "name": "python3"
  },
  "language_info": {
   "codemirror_mode": {
    "name": "ipython",
    "version": 2
   },
   "file_extension": ".py",
   "mimetype": "text/x-python",
   "name": "python",
   "nbconvert_exporter": "python",
   "pygments_lexer": "ipython2",
   "version": "2.7.6"
  }
 },
 "nbformat": 4,
 "nbformat_minor": 5
}
