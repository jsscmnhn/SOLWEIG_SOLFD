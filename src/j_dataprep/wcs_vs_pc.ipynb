{
 "cells": [
  {
   "cell_type": "code",
   "id": "initial_id",
   "metadata": {
    "collapsed": true,
    "ExecuteTime": {
     "end_time": "2025-03-15T17:19:05.054884Z",
     "start_time": "2025-03-15T17:19:04.946442Z"
    }
   },
   "source": [
    "import requests\n",
    "from io import BytesIO\n",
    "import gzip\n",
    "import os\n",
    "import pandas as pd\n",
    "import geopandas as gpd\n",
    "import numpy as np\n",
    "import rasterio\n",
    "from shapely.geometry import mapping\n",
    "from rasterio.features import geometry_mask, shapes\n",
    "from scipy.interpolate import NearestNDInterpolator\n",
    "import matplotlib.pyplot as plt\n",
    "import startinpy\n",
    "from rasterio import Affine\n",
    "from shapely.geometry import shape,box\n",
    "from rasterio.crs import CRS\n",
    "from pathlib import Path\n",
    "import laspy\n",
    "from scipy.spatial import cKDTree\n",
    "from scipy.ndimage import median_filter, label"
   ],
   "outputs": [],
   "execution_count": 3
  },
  {
   "metadata": {
    "ExecuteTime": {
     "end_time": "2025-03-15T17:19:05.080276Z",
     "start_time": "2025-03-15T17:19:05.066888Z"
    }
   },
   "cell_type": "code",
   "source": "input_pc = \"output/pointcloud.las\"\n",
   "id": "90f187e466d76415",
   "outputs": [],
   "execution_count": 4
  },
  {
   "metadata": {
    "ExecuteTime": {
     "end_time": "2025-03-15T17:19:05.159450Z",
     "start_time": "2025-03-15T17:19:05.100276Z"
    }
   },
   "cell_type": "code",
   "source": [
    "\n",
    "def write_output(dataset, crs, output, transform, name, change_nodata=False):\n",
    "    \"\"\"\n",
    "    Write grid to .tiff file.\n",
    "    ----\n",
    "    Input:\n",
    "    - dataset: Can be either a rasterio dataset (for rasters) or laspy dataset (for point clouds)\n",
    "    - output (Array): the output grid, a numpy grid.\n",
    "    - name (String): the name of the output file.\n",
    "    - transform:\n",
    "      a user defined rasterio Affine object, used for the transforming the pixel coordinates\n",
    "      to spatial coordinates.\n",
    "    - change_nodata (Boolean): true: use a no data value of -9999, false: use the datasets no data value\n",
    "    \"\"\"\n",
    "    output_file = name\n",
    "\n",
    "    output = np.squeeze(output)\n",
    "\n",
    "    # Set the nodata value: use -9999 if nodata_value is True or dataset does not have nodata.\n",
    "    if change_nodata:\n",
    "        nodata_value = -9999\n",
    "    else:\n",
    "        try:\n",
    "            nodata_value = dataset.nodata\n",
    "            if nodata_value is None:\n",
    "                raise AttributeError(\"No no data value found in dataset.\")\n",
    "        except AttributeError as e:\n",
    "            print(f\"Warning: {e}. Defaulting to -9999.\")\n",
    "            nodata_value = -9999\n",
    "\n",
    "\n",
    "    # output the dataset\n",
    "    with rasterio.open(output_file, 'w',\n",
    "                       driver='GTiff',\n",
    "                       height=output.shape[0],  # Assuming output is (rows, cols)\n",
    "                       width=output.shape[1],\n",
    "                       count=1,\n",
    "                       dtype=np.float32,\n",
    "                       crs=crs,\n",
    "                       nodata=nodata_value,\n",
    "                       transform=transform) as dst:\n",
    "        dst.write(output, 1)\n",
    "    print(\"File written to '%s'\" % output_file)\n",
    "\n",
    "def raster_center_coords(min_x, max_x, min_y, max_y, resolution):\n",
    "    \"\"\"\n",
    "    Compute the center xy coordinates of a grid.\n",
    "    ----\n",
    "    Input:\n",
    "    - min_x, max_x, min_y, max_y(float): Minimum and maximum x and y coordinates of the grid.\n",
    "    - resolution (float): The length of each cell, function can only be used for square cells.\n",
    "\n",
    "    Output:\n",
    "    - grid_center_x: a grid where each cell contains the value of its center point's x coordinates.\n",
    "    - grid_center_y: a grid where each cell contains the value of its center point's y coordinates.\n",
    "    \"\"\"\n",
    "    # create coordinates for the x and y border of every cell.\n",
    "    x_coords = np.arange(min_x, max_x, resolution)  # x coordinates expand from left to right.\n",
    "    y_coords = np.arange(max_y, min_y, -resolution)  # y coordinates reduce from top to bottom.\n",
    "\n",
    "    # create center point coordinates for evey cell.\n",
    "    grid_x, grid_y = np.meshgrid(x_coords, y_coords)\n",
    "    grid_center_x = grid_x + resolution / 2\n",
    "    grid_center_y = grid_y - resolution / 2\n",
    "    return grid_center_x, grid_center_y\n",
    "\n",
    "def dem_creation(LasData, data, output_filename, resolution=0.5, smooth=False, nodata_value=-9999, filter_size=3):\n",
    "    raster = data[0]\n",
    "    grid_centers = data[1]\n",
    "    top_left_x = grid_centers[0][0, 0] - resolution / 2\n",
    "    top_left_y = grid_centers[1][0, 0] + resolution / 2\n",
    "\n",
    "    transform =Affine.translation(top_left_x, top_left_y) * Affine.scale(resolution, -resolution)\n",
    "    crs = CRS.from_epsg(28992)\n",
    "\n",
    "    write_output(LasData, crs, raster, transform, output_filename, True)\n",
    "\n",
    "\n",
    "def interpolation(LasData, points, resolution, no_data_value=-9999):\n",
    "    \"\"\"\n",
    "    Create a vegetation raster using Laplace interpolation.\n",
    "\n",
    "    InpurL\n",
    "    - LasData (laspy.LasData):          Input LiDAR point cloud data.\n",
    "    - veg_points (laspy.LasData):       Vegetation points to be interpolated.\n",
    "    - resolution (float):               Resolution of the raster.\n",
    "    - no_data_value (int, optional):    Value for no data\n",
    "\n",
    "    Returns:\n",
    "    - interpolated_grid (np.ndarray): Generated raster for vegetation.\n",
    "    - grid_center_xy (tuple): Grid of x, y center coordinates for each raster cell.\n",
    "    \"\"\"\n",
    "\n",
    "    # Extents of the pc\n",
    "    min_x, max_x = round(LasData.x.min()), round(LasData.x.max())\n",
    "    min_y, max_y = round(LasData.y.min()), round(LasData.y.max())\n",
    "\n",
    "    # Define size of the region\n",
    "    x_length = max_x - min_x\n",
    "    y_length = max_y - min_y\n",
    "\n",
    "    # Number of rows and columns\n",
    "    cols = round(x_length / resolution)\n",
    "    rows = round(y_length / resolution)\n",
    "\n",
    "    # Initialize raster grid\n",
    "    vege_raster = np.full((rows, cols), no_data_value, dtype=np.float32)\n",
    "\n",
    "    # Calculate center coords for each grid cell\n",
    "    grid_center_xy = raster_center_coords(min_x, max_x, min_y, max_y, resolution)\n",
    "\n",
    "    if points.x.shape[0] == 0:\n",
    "        print(\"There are no vegetation points in the current area.\")\n",
    "        vege_raster = np.full((rows, cols), -200, dtype=np.float32)\n",
    "        return vege_raster, grid_center_xy\n",
    "\n",
    "    # create the delaunay triangulation\n",
    "    dt = startinpy.DT()\n",
    "    dt.insert(points.xyz, \"BBox\")\n",
    "\n",
    "    # Flatten the grid to get a list of all center coords\n",
    "    locs = np.column_stack((grid_center_xy[0].ravel(), grid_center_xy[1].ravel()))\n",
    "\n",
    "\n",
    "    # laplace interpolation\n",
    "    interpolated_values = dt.interpolate({\"method\": \"Laplace\"}, locs)\n",
    "\n",
    "    # reshape interpolated grid back to og\n",
    "    interpolated_grid = np.full_like(vege_raster, no_data_value, dtype=np.float32)  # Start with no_data\n",
    "    interpolated_grid.ravel()[:] = interpolated_values\n",
    "\n",
    "    return interpolated_grid, grid_center_xy"
   ],
   "id": "cce791b979000b2b",
   "outputs": [],
   "execution_count": 5
  },
  {
   "metadata": {
    "ExecuteTime": {
     "end_time": "2025-03-15T17:19:05.643229Z",
     "start_time": "2025-03-15T17:19:05.166995Z"
    }
   },
   "cell_type": "code",
   "source": [
    "with laspy.open(input_pc, laz_backend=laspy.LazBackend.Lazrs) as las:\n",
    "    las_data = las.read()\n",
    "#\n",
    "# dst = rasterio.open(\"D:\\Geomatics\\thesis\\wcs_test\\maps\\final_dtm_wcs.tif\", \"r\")"
   ],
   "id": "f249a8cb3e98d0c2",
   "outputs": [],
   "execution_count": 6
  },
  {
   "metadata": {
    "ExecuteTime": {
     "end_time": "2025-03-15T17:21:24.609815Z",
     "start_time": "2025-03-15T17:19:05.652399Z"
    }
   },
   "cell_type": "code",
   "source": [
    "building_ground_points = las_data[(las_data.classification == 2) | (las_data.classification == 6)]\n",
    "ground_points =  building_ground_points[(building_ground_points.classification == 2)]\n",
    "all_data = interpolation(las_data, building_ground_points, 0.5)\n",
    "dem_creation(las_data, all_data, \"D:/Geomatics/thesis/wcs_test/maps/final_dsm_pc.tif\")\n",
    "ground_pointsoutput = interpolation(las_data, ground_points, 0.5)\n",
    "dem_creation(las_data, ground_pointsoutput, \"D:/Geomatics/thesis/wcs_test/maps/final_dtm_pc.tif\")"
   ],
   "id": "ed53311e3f25d66f",
   "outputs": [
    {
     "name": "stdout",
     "output_type": "stream",
     "text": [
      "File written to 'D:/Geomatics/thesis/wcs_test/maps/final_dsm_pc.tif'\n",
      "File written to 'D:/Geomatics/thesis/wcs_test/maps/final_dtm_pc.tif'\n"
     ]
    }
   ],
   "execution_count": 7
  },
  {
   "metadata": {
    "ExecuteTime": {
     "end_time": "2025-03-15T17:21:24.647496Z",
     "start_time": "2025-03-15T17:21:24.644727Z"
    }
   },
   "cell_type": "code",
   "source": "",
   "id": "97c0d6b31e439322",
   "outputs": [],
   "execution_count": null
  }
 ],
 "metadata": {
  "kernelspec": {
   "display_name": "Python 3",
   "language": "python",
   "name": "python3"
  },
  "language_info": {
   "codemirror_mode": {
    "name": "ipython",
    "version": 2
   },
   "file_extension": ".py",
   "mimetype": "text/x-python",
   "name": "python",
   "nbconvert_exporter": "python",
   "pygments_lexer": "ipython2",
   "version": "2.7.6"
  }
 },
 "nbformat": 4,
 "nbformat_minor": 5
}
