{
 "cells": [
  {
   "cell_type": "code",
   "execution_count": null,
   "id": "initial_id",
   "metadata": {
    "collapsed": true
   },
   "outputs": [],
   "source": "import ast"
  },
  {
   "metadata": {
    "ExecuteTime": {
     "end_time": "2025-02-13T10:02:26.899049Z",
     "start_time": "2025-02-13T10:02:23.128470Z"
    }
   },
   "cell_type": "code",
   "source": [
    "import geopandas as gpd\n",
    "\n",
    "# Load the shapefile\n",
    "shapefile_path = \"../geotiles/AHN_subunits_GeoTiles.shp\"\n",
    "gdf = gpd.read_file(shapefile_path)\n",
    "\n",
    "print(gdf.head())\n",
    "\n",
    "# Extract bounds for each geometry\n",
    "gdf[\"bounds\"] = gdf.geometry.apply(lambda geom: (int(geom.bounds[0]), int(geom.bounds[1]), int(geom.bounds[2]), int(geom.bounds[3])))\n",
    "\n",
    "# Save to CSV\n",
    "csv_path = \"../geotiles/tile_lookup.csv\"\n",
    "gdf[[\"bounds\", \"GT_AHNSUB\"]].to_csv(csv_path, index=False)\n",
    "print(f\"Saved to {csv_path}\")"
   ],
   "id": "331dd9c86367c73f",
   "outputs": [
    {
     "name": "stdout",
     "output_type": "stream",
     "text": [
      "  GT_AHNSUB GT_AHN GT_TOP50 GT_TOP25 GT_TOP10  AHN1  AHN2  AHN3  AHN4  Kust  \\\n",
      "0  37AZ1_01  37AZ1      37W      37A     37AZ     1     1     1     1     1   \n",
      "1  37AZ1_02  37AZ1      37W      37A     37AZ     1     1     1     1     1   \n",
      "2  37AZ1_03  37AZ1      37W      37A     37AZ     1     1     1     1     1   \n",
      "3  37AZ1_04  37AZ1      37W      37A     37AZ     1     1     1     1     1   \n",
      "4  37AZ1_05  37AZ1      37W      37A     37AZ     1     1     1     1     1   \n",
      "\n",
      "   BM2016  BM2017  BM2018  BM2019  BM2020  BM2022  GeoTiles  \\\n",
      "0       1       1       1       1       1       1         1   \n",
      "1       1       1       1       1       1       1         1   \n",
      "2       1       1       1       1       1       1         1   \n",
      "3       1       1       1       1       1       1         1   \n",
      "4       1       1       1       1       1       1         1   \n",
      "\n",
      "                                            geometry  \n",
      "0  POLYGON ((61000 443750, 61000 442500, 60000 44...  \n",
      "1  POLYGON ((62000 443750, 62000 442500, 61000 44...  \n",
      "2  POLYGON ((63000 443750, 63000 442500, 62000 44...  \n",
      "3  POLYGON ((64000 443750, 64000 442500, 63000 44...  \n",
      "4  POLYGON ((65000 443750, 65000 442500, 64000 44...  \n",
      "Saved to ../geotiles/tile_lookup.csv\n"
     ]
    }
   ],
   "execution_count": 1
  },
  {
   "metadata": {
    "ExecuteTime": {
     "end_time": "2025-02-13T10:12:14.616681Z",
     "start_time": "2025-02-13T10:12:14.601598Z"
    }
   },
   "cell_type": "code",
   "source": "",
   "id": "a2e2f6a7b3c7c1e8",
   "outputs": [
    {
     "data": {
      "text/plain": [
       "{'PCIDSK': 'rw',\n",
       " 'PDS4': 'rw',\n",
       " 'VICAR': 'rw',\n",
       " 'PDF': 'rw',\n",
       " 'MBTiles': 'rw',\n",
       " 'EEDA': 'r',\n",
       " 'OGCAPI': 'r',\n",
       " 'ESRI Shapefile': 'rw',\n",
       " 'MapInfo File': 'rw',\n",
       " 'UK .NTF': 'r',\n",
       " 'LVBAG': 'r',\n",
       " 'OGR_SDTS': 'r',\n",
       " 'S57': 'rw',\n",
       " 'DGN': 'rw',\n",
       " 'OGR_VRT': 'r',\n",
       " 'Memory': 'rw',\n",
       " 'CSV': 'rw',\n",
       " 'GML': 'rw',\n",
       " 'GPX': 'rw',\n",
       " 'KML': 'rw',\n",
       " 'GeoJSON': 'rw',\n",
       " 'GeoJSONSeq': 'rw',\n",
       " 'ESRIJSON': 'r',\n",
       " 'TopoJSON': 'r',\n",
       " 'OGR_GMT': 'rw',\n",
       " 'GPKG': 'rw',\n",
       " 'SQLite': 'rw',\n",
       " 'WAsP': 'rw',\n",
       " 'OpenFileGDB': 'rw',\n",
       " 'DXF': 'rw',\n",
       " 'FlatGeobuf': 'rw',\n",
       " 'Geoconcept': 'rw',\n",
       " 'GeoRSS': 'rw',\n",
       " 'VFK': 'r',\n",
       " 'PGDUMP': 'rw',\n",
       " 'OSM': 'r',\n",
       " 'GPSBabel': 'rw',\n",
       " 'OGR_PDS': 'r',\n",
       " 'WFS': 'r',\n",
       " 'OAPIF': 'r',\n",
       " 'EDIGEO': 'r',\n",
       " 'SVG': 'r',\n",
       " 'Idrisi': 'r',\n",
       " 'ODS': 'rw',\n",
       " 'XLSX': 'rw',\n",
       " 'Elasticsearch': 'rw',\n",
       " 'Carto': 'rw',\n",
       " 'AmigoCloud': 'rw',\n",
       " 'SXF': 'r',\n",
       " 'Selafin': 'rw',\n",
       " 'JML': 'rw',\n",
       " 'PLSCENES': 'r',\n",
       " 'CSW': 'r',\n",
       " 'VDV': 'rw',\n",
       " 'MVT': 'rw',\n",
       " 'NGW': 'rw',\n",
       " 'MapML': 'rw',\n",
       " 'GTFS': 'r',\n",
       " 'PMTiles': 'rw',\n",
       " 'JSONFG': 'rw',\n",
       " 'MiraMonVector': 'rw',\n",
       " 'TIGER': 'r',\n",
       " 'AVCBin': 'r',\n",
       " 'AVCE00': 'r',\n",
       " 'HTTP': 'r'}"
      ]
     },
     "execution_count": 7,
     "metadata": {},
     "output_type": "execute_result"
    }
   ],
   "execution_count": 7
  },
  {
   "metadata": {
    "ExecuteTime": {
     "end_time": "2025-02-13T10:03:28.658555Z",
     "start_time": "2025-02-13T10:03:28.633320Z"
    }
   },
   "cell_type": "code",
   "source": "print(gdf[[\"bounds\", \"GT_AHNSUB\"]])",
   "id": "f7bd681a072ae2f7",
   "outputs": [
    {
     "name": "stdout",
     "output_type": "stream",
     "text": [
      "                                 bounds GT_AHNSUB\n",
      "0        (60000, 442500, 61000, 443750)  37AZ1_01\n",
      "1        (61000, 442500, 62000, 443750)  37AZ1_02\n",
      "2        (62000, 442500, 63000, 443750)  37AZ1_03\n",
      "3        (63000, 442500, 64000, 443750)  37AZ1_04\n",
      "4        (64000, 442500, 65000, 443750)  37AZ1_05\n",
      "...                                 ...       ...\n",
      "40420  (215000, 331250, 216000, 332500)  60HN2_21\n",
      "40421  (216000, 331250, 217000, 332500)  60HN2_22\n",
      "40422  (217000, 331250, 218000, 332500)  60HN2_23\n",
      "40423  (218000, 331250, 219000, 332500)  60HN2_24\n",
      "40424  (219000, 331250, 220000, 332500)  60HN2_25\n",
      "\n",
      "[40425 rows x 2 columns]\n"
     ]
    }
   ],
   "execution_count": 2
  },
  {
   "metadata": {
    "ExecuteTime": {
     "end_time": "2025-02-13T10:16:26.249576Z",
     "start_time": "2025-02-13T10:16:22.752340Z"
    }
   },
   "cell_type": "code",
   "source": "gdf[[\"geometry\", \"GT_AHNSUB\"]].to_file(\"AHN_lookup.geojson\", driver=\"GeoJSON\")",
   "id": "906efd8a61b8a5b8",
   "outputs": [],
   "execution_count": 13
  },
  {
   "metadata": {
    "ExecuteTime": {
     "end_time": "2025-02-13T10:04:33.732355Z",
     "start_time": "2025-02-13T10:04:33.728797Z"
    }
   },
   "cell_type": "code",
   "source": "from shapely.geometry import box",
   "id": "7a0a1be95daf4f13",
   "outputs": [],
   "execution_count": 3
  },
  {
   "metadata": {
    "ExecuteTime": {
     "end_time": "2025-02-13T10:06:18.679144Z",
     "start_time": "2025-02-13T10:06:18.672458Z"
    }
   },
   "cell_type": "code",
   "source": [
    "# Function to find intersecting tiles\n",
    "def find_tiles(x_min, y_min, x_max, y_max):\n",
    "    query_geom = box(x_min, y_min, x_max, y_max)  # Create a query box\n",
    "    matches = gdf.sindex.query(query_geom)  # Get index of matching tiles\n",
    "    return gdf.iloc[matches][\"GT_AHNSUB\"].tolist()\n",
    "\n",
    "# Example query\n",
    "search_bounds = (100500, 402700, 110500, 443000)  # Search area\n",
    "matching_tiles = find_tiles(*search_bounds)\n",
    "\n",
    "print(\"Tiles covering the area:\", matching_tiles)"
   ],
   "id": "b19074f189fb6342",
   "outputs": [
    {
     "name": "stdout",
     "output_type": "stream",
     "text": [
      "Tiles covering the area: ['44CZ1_15', '44CZ2_11', '44CZ2_12', '44CZ1_10', '44CZ2_06', '44CZ2_07', '44CZ1_14', '44CZ1_12', '44CZ1_11', '44CZ1_13', '44CZ1_07', '44CZ1_06', '44CZ1_09', '44CZ1_08', '44CZ1_04', '44CZ1_03', '44CZ1_01', '44CZ1_02', '44CN1_23', '44CN1_22', '44CN1_21', '44CN1_24', '44CN1_16', '44CZ2_15', '44CZ2_14', '44CZ2_13', '44DZ1_11', '44CZ2_10', '44CZ2_09', '44DZ1_01', '44CZ2_08', '44DZ1_06', '44CZ2_04', '44CZ2_03', '44CZ2_05', '44CN2_25', '44CN2_23', '44CN2_24', '44DN1_21', '44CN2_20', '44CZ1_05', '44CZ2_01', '44CZ2_02', '44CN1_25', '44CN2_21', '44CN2_22', '44CN1_20', '44CN2_16', '44CN2_17', '44CN1_15', '44CN1_17', '44CN1_19', '44CN1_18', '44CN1_11', '44CN1_12', '44CN1_13', '44CN1_14', '44CN1_09', '44CN1_07', '44CN1_06', '44CN2_11', '44CN2_12', '44CN2_06', '44CN2_07', '44CN1_10', '44CN1_04', '44CN2_02', '44CN2_01', '44CN1_05', '44AZ2_21', '44CN1_08', '44CN1_03', '44CN1_02', '44CN1_01', '44AZ1_23', '44AZ1_21', '44AZ1_22', '44AZ1_24', '44AZ1_17', '44AZ1_18', '44AZ1_25', '44AZ2_22', '44AZ1_20', '44AZ2_17', '44AZ2_16', '44AZ1_15', '44AZ2_12', '44AZ2_11', '44AZ1_10', '44AZ2_07', '44AZ1_19', '44AZ1_16', '44AZ1_13', '44AZ1_14', '44AZ1_12', '44AZ1_11', '44AZ1_06', '44AZ1_08', '44AZ1_09', '44AZ1_07', '44CN2_18', '44CN2_19', '44DN1_16', '44CN2_13', '44CN2_14', '44DN1_11', '44CN2_15', '44CN2_09', '44CN2_08', '44DN1_06', '44CN2_10', '44CN2_04', '44CN2_03', '44DN1_01', '44CN2_05', '44AZ2_25', '44BZ1_21', '44AZ2_23', '44AZ2_24', '44BZ1_16', '44AZ2_19', '44AZ2_20', '44AZ2_18', '44AZ2_15', '44AZ2_14', '44BZ1_11', '44AZ2_13', '44AZ2_08', '44AZ2_10', '44AZ2_09', '44BZ1_06', '44AZ2_03', '44AZ2_05', '44BZ1_01', '44AZ2_04', '44AN2_23', '44BN1_21', '44AN2_24', '44AN2_25', '44AN2_20', '44AN2_19', '44AZ2_06', '44AZ2_01', '44AZ1_05', '44AZ2_02', '44AN1_25', '44AN2_21', '44AN2_22', '44AN2_16', '44AN2_17', '44AN1_20', '44AZ1_03', '44AZ1_02', '44AZ1_01', '44AZ1_04', '44AN1_22', '44AN1_21', '44AN1_23', '44AN1_24', '44AN1_17', '44AN1_19', '44AN1_18', '44AN1_16', '44AN1_14', '44AN1_13', '44AN1_12', '44AN1_11', '44AN1_06', '44AN1_08', '44AN1_07', '44AN1_09', '44AN2_11', '44AN1_15', '44AN2_12', '44AN2_06', '44AN1_10', '44AN2_07', '44AN1_05', '44AN2_02', '44AN2_01', '38CZ2_21', '44AN1_01', '44AN1_02', '44AN1_03', '44AN1_04', '38CZ1_22', '38CZ1_23', '38CZ1_21', '38CZ1_24', '38CZ1_18', '38CZ1_17', '38CZ2_22', '38CZ1_25', '38CZ2_16', '38CZ1_20', '38CZ1_19', '38CZ2_17', '38CZ1_15', '38CZ2_12', '38CZ2_11', '38CZ2_06', '38CZ1_16', '38CZ1_13', '38CZ1_14', '38CZ1_11', '38CZ1_12', '38CZ1_07', '38CZ1_06', '38CZ1_09', '38CZ1_08', '38CZ1_04', '44AN2_18', '44BN1_16', '44BN1_11', '44AN2_14', '44AN2_15', '44AN2_13', '44BN1_06', '44AN2_10', '44AN2_09', '44AN2_08', '44AN2_04', '44AN2_03', '44AN2_05', '44BN1_01', '38CZ2_24', '38CZ2_23', '38CZ2_25', '38DZ1_21', '38CZ2_20', '38DZ1_16', '38CZ2_19', '38CZ2_18', '38CZ2_14', '38DZ1_11', '38CZ2_15', '38CZ2_13', '38CZ2_08', '38CZ2_09', '38DZ1_06', '38CZ2_10', '38CZ1_10', '38CZ2_07', '38CZ2_02', '38CZ1_05', '38CZ2_01', '38CN2_22', '38CN1_25', '38CN2_21', '38CN1_20', '38CN2_16', '38CZ1_03', '38CZ1_01', '38CZ1_02', '38CN1_23', '38CN1_24', '38CN1_22', '38CN1_16', '38CN1_18', '38CN1_17', '38CN1_19', '38CN1_21', '38CN2_17', '38CN2_12', '38CN2_11', '38CN1_15', '38CN1_14', '38CN2_06', '38CN1_10', '38CN2_07', '38CN2_01', '38CN1_05', '38CN1_11', '38CN1_12', '38CN1_13', '38CN1_06', '38CN1_09', '38CN1_08', '38CN1_07', '38CN1_03', '38CN1_02', '38CN1_04', '38CN1_01', '38CN2_02', '38AZ2_21', '38AZ2_22', '38AZ1_25', '38AZ2_16', '38AZ2_17', '38AZ2_18', '38AZ1_20', '38AZ2_12', '38AZ2_13', '38AZ1_24', '38AZ1_21', '38AZ1_23', '38AZ1_22', '38AZ1_16', '38AZ1_18', '38AZ1_19', '38AZ1_17', '38AZ1_14', '38AZ1_11', '38CZ2_03', '38DZ1_01', '38CZ2_04', '38CZ2_05', '38CN2_25', '38CN2_23', '38CN2_24', '38DN1_21', '38CN2_19', '38CN2_18', '38DN1_16', '38CN2_20', '38CN2_13', '38CN2_14', '38CN2_15', '38DN1_11', '38CN2_08', '38DN1_06', '38CN2_10', '38CN2_09', '38CN2_03', '38CN2_04', '38CN2_05', '38DN1_01', '38BZ1_21', '38AZ2_24', '38AZ2_23', '38AZ2_25', '38AZ2_20', '38BZ1_16', '38AZ2_19', '38AZ2_15', '38BZ1_11', '38AZ2_14', '38BZ1_06', '38AZ2_10', '38AZ2_09', '38BZ1_01', '38AZ2_05', '38AZ2_04', '38AZ1_15', '38AZ2_11', '38AZ2_06', '38AZ2_08', '38AZ1_10', '38AZ2_07', '38AZ1_05', '38AZ2_01', '38AZ2_02', '38AZ2_03', '38AZ1_12', '38AZ1_13', '38AZ1_06', '38AZ1_08', '38AZ1_07', '38AZ1_09', '38AZ1_01', '38AZ1_04', '38AZ1_02', '38AZ1_03']\n"
     ]
    }
   ],
   "execution_count": 6
  },
  {
   "metadata": {},
   "cell_type": "code",
   "outputs": [],
   "execution_count": null,
   "source": [
    "tile_size_x = 1000 \n",
    "tile_size_y = 1250\n",
    "x_origin, y_origin = 40000, 437500  # Set based on minimum values in your dataset\n",
    "\n",
    "# Grid dictionary: {(grid_x, grid_y): tile_name}\n",
    "grid_tiles = {}\n",
    "\n",
    "# Read tile bounds and convert to grid indices\n",
    "\n",
    "for bbox, tile_name in tile_data:\n",
    "    x_min, y_min, x_max, y_max = ast.literal_eval(bbox)\n",
    "    grid_x = (x_min - x_origin) // tile_size_x\n",
    "    grid_y = (y_min - y_origin) // tile_size_y\n",
    "    grid_tiles[(grid_x, grid_y)] = tile_name\n",
    "\n",
    "# Function to find the tile(s) for a given area\n",
    "def find_tiles(x_min, y_min, x_max, y_max):\n",
    "    tiles = []\n",
    "    for gx in range((x_min - x_origin) // tile_size_x, (x_max - x_origin) // tile_size_x + 1):\n",
    "        for gy in range((y_min - y_origin) // tile_size_y, (y_max - y_origin) // tile_size_y + 1):\n",
    "            if (gx, gy) in grid_tiles:\n",
    "                tiles.append(grid_tiles[(gx, gy)])\n",
    "    return tiles\n",
    "\n",
    "# Example query\n",
    "search_x_min, search_y_min, search_x_max, search_y_max = 40500, 442700, 41500, 443000\n",
    "matching_tiles = find_tiles(search_x_min, search_y_min, search_x_max, search_y_max)\n",
    "\n",
    "print(\"Tiles covering the area:\", matching_tiles)"
   ],
   "id": "da59689a94d8918"
  },
  {
   "metadata": {
    "ExecuteTime": {
     "end_time": "2025-02-13T10:22:41.454935Z",
     "start_time": "2025-02-13T10:22:39.918433Z"
    }
   },
   "cell_type": "code",
   "source": [
    "# Load the shapefile\n",
    "shapefile_path = \"AHN_lookup.geojson\"\n",
    "gdf2 = gpd.read_file(shapefile_path)"
   ],
   "id": "8483f41f6817c57c",
   "outputs": [],
   "execution_count": 14
  },
  {
   "metadata": {
    "ExecuteTime": {
     "end_time": "2025-02-13T10:29:18.733900Z",
     "start_time": "2025-02-13T10:29:18.725243Z"
    }
   },
   "cell_type": "code",
   "source": [
    "def find_tiles(x_min, y_min, x_max, y_max):\n",
    "    query_geom = box(x_min, y_min, x_max, y_max)  # Create a query box\n",
    "    matches = gdf2.sindex.query(query_geom)  # Get index of matching tiles\n",
    "    return gdf2.iloc[matches][\"GT_AHNSUB\"].tolist()\n",
    "\n",
    "# Example query\n",
    "search_bounds = (109500, 422700, 110500, 443000)  # Search area\n",
    "matching_tiles = find_tiles(*search_bounds)\n",
    "\n",
    "print(\"Tiles covering the area:\", matching_tiles)"
   ],
   "id": "3a65329b363ac82c",
   "outputs": [
    {
     "name": "stdout",
     "output_type": "stream",
     "text": [
      "Tiles covering the area: ['44BN1_06', '44AN2_10', '44AN2_05', '44BN1_01', '38CZ2_25', '38DZ1_21', '38CZ2_20', '38DZ1_16', '38DZ1_11', '38CZ2_15', '38DZ1_06', '38CZ2_10', '38DZ1_01', '38CZ2_05', '38CN2_25', '38DN1_21', '38DN1_16', '38CN2_20', '38CN2_15', '38DN1_11', '38DN1_06', '38CN2_10', '38CN2_05', '38DN1_01', '38BZ1_21', '38AZ2_25', '38AZ2_20', '38BZ1_16', '38AZ2_15', '38BZ1_11', '38BZ1_06', '38AZ2_10', '38BZ1_01', '38AZ2_05']\n"
     ]
    }
   ],
   "execution_count": 19
  }
 ],
 "metadata": {
  "kernelspec": {
   "display_name": "Python 3",
   "language": "python",
   "name": "python3"
  },
  "language_info": {
   "codemirror_mode": {
    "name": "ipython",
    "version": 2
   },
   "file_extension": ".py",
   "mimetype": "text/x-python",
   "name": "python",
   "nbconvert_exporter": "python",
   "pygments_lexer": "ipython2",
   "version": "2.7.6"
  }
 },
 "nbformat": 4,
 "nbformat_minor": 5
}
